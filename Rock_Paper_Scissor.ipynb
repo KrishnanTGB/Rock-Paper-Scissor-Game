{
 "cells": [
  {
   "cell_type": "code",
   "execution_count": 1,
   "metadata": {},
   "outputs": [
    {
     "name": "stdout",
     "output_type": "stream",
     "text": [
      "***ROCK-PAPER-SCISSORS***\n",
      "\n",
      "(scissors, paper, rock) Type your choice: paper\n",
      "\n",
      "You played paper, the computer played rock\n",
      "You win!\n",
      "Machine_Points: 0 - Human_Points: 1 - Ties: 0\n",
      "Play again? Enter 'y' for yes or 'n' for no. y\n",
      "\n",
      "***ROCK-PAPER-SCISSORS***\n",
      "\n",
      "(scissors, paper, rock) Type your choice: rock\n",
      "\n",
      "You played rock, the computer played paper\n",
      "The computer wins!\n",
      "Machine_Points: 1 - Human_Points: 1 - Ties: 0\n",
      "Play again? Enter 'y' for yes or 'n' for no. n\n",
      "\n"
     ]
    }
   ],
   "source": [
    "import random\n",
    "\n",
    "\n",
    "def game():\n",
    "\n",
    "    computer_count = 0\n",
    "    user_count = 0\n",
    "    tie_count = 0\n",
    "    \n",
    "    #control loop with 'y' variable \n",
    "    play_again = 'y' \n",
    "\n",
    "    #start the game \n",
    "    while play_again == 'y': \n",
    "        base_choice = ['scissors', 'paper', 'rock']\n",
    "        computer_choice = random.choice(base_choice)\n",
    "\n",
    "        user_choice = input('***ROCK-PAPER-SCISSORS***\\n\\n(scissors, paper, rock) Type your choice: ').strip().lower()\n",
    "        print()\n",
    "        computer_wins = 'The computer wins!'\n",
    "        you_win = 'You win!'\n",
    "\n",
    "        print(f'You played {user_choice}, the computer played {computer_choice}')\n",
    "        if user_choice == 'scissors' and computer_choice == 'rock' or \\\n",
    "           user_choice == 'paper' and computer_choice == 'scissors' or \\\n",
    "           user_choice == 'rock' and computer_choice == 'paper':\n",
    "            print(computer_wins)\n",
    "            computer_count += 1\n",
    "\n",
    "        elif user_choice == 'rock' and computer_choice == 'scissors' or \\\n",
    "            user_choice == 'scissors' and computer_choice == 'paper' or \\\n",
    "                user_choice == 'paper' and computer_choice == 'rock':\n",
    "                print(you_win)\n",
    "                user_count += 1\n",
    "\n",
    "        else:\n",
    "            if user_choice == computer_choice:\n",
    "                print('Its a draw!')\n",
    "                tie_count += 1\n",
    "        \n",
    "        \n",
    "\n",
    "        print(f'Machine_Points: {computer_count} - Human_Points: {user_count} - Ties: {tie_count}')\n",
    "        play_again = input(\"Play again? Enter 'y' for yes or 'n' for no. \") \n",
    "        print()\n",
    "\n",
    "\n",
    "game()\n"
   ]
  },
  {
   "cell_type": "code",
   "execution_count": null,
   "metadata": {},
   "outputs": [],
   "source": []
  }
 ],
 "metadata": {
  "kernelspec": {
   "display_name": "Python 3",
   "language": "python",
   "name": "python3"
  },
  "language_info": {
   "codemirror_mode": {
    "name": "ipython",
    "version": 3
   },
   "file_extension": ".py",
   "mimetype": "text/x-python",
   "name": "python",
   "nbconvert_exporter": "python",
   "pygments_lexer": "ipython3",
   "version": "3.8.3"
  }
 },
 "nbformat": 4,
 "nbformat_minor": 4
}
